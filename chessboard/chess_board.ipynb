{
 "cells": [
  {
   "cell_type": "code",
   "execution_count": 21,
   "metadata": {},
   "outputs": [
    {
     "data": {
      "image/png": "[encoded data removed]",
      "text/plain": [
       "<Figure size 432x288 with 1 Axes>"
      ]
     },
     "metadata": {
      "needs_background": "light"
     },
     "output_type": "display_data"
    }
   ],
   "source": [
    "%matplotlib inline\n",
    "import numpy as np\n",
    "import matplotlib.pyplot as plt\n",
    "class ChessBoard:\n",
    "  def __init__(self):\n",
    "    self.grid = np.zeros((8,8,3))\n",
    "    for row in range(8):\n",
    "      for col in range(8):\n",
    "        if (not col % 2 and not row % 2) or (col % 2 and row % 2):\n",
    "          self.grid[row,col] = (1,1,1)\n",
    "  \n",
    "  def render(self):\n",
    "    plt.imshow(self.grid)\n",
    "    \n",
    "  def add_red(self, row, col):\n",
    "\n",
    "    self.grid[row,col] = (1,.2,0)\n",
    "    self.handle_red_row=row\n",
    "    self.handle_red_col=col\n",
    "\n",
    "  def add_blue(self, row,col):\n",
    "\n",
    "    self.handle_blue_row=row\n",
    "    self.handle_blue_col=col\n",
    "    self.grid[row,col] = (0,1,1)\n",
    "  def is_under_attack(self):\n",
    "      \n",
    "    if self.handle_blue_row ==self.handle_red_row:\n",
    "        return True\n",
    "\n",
    "    if self.handle_blue_col ==self.handle_red_col:\n",
    "        return True\n",
    "\n",
    "    if  abs(self.handle_blue_col - self.handle_red_col) == abs(self.handle_blue_row - self.handle_red_row):\n",
    "        return True\n",
    "    return False\n",
    "\n",
    "chessboard = ChessBoard()\n",
    "chessboard.render()\n",
    "chessboard.add_red(1,2)\n",
    "chessboard.add_blue(4,5)\n",
    "chessboard.render()"
   ]
  },
  {
   "cell_type": "code",
   "execution_count": 25,
   "metadata": {},
   "outputs": [],
   "source": [
    "def test_queens_on_same_row():\n",
    "    #rang\n",
    "    chess=ChessBoard()\n",
    "    chess.add_red(1,5)\n",
    "    chess.add_blue(1,3)\n",
    "    expected=True\n",
    "    #Act\n",
    "    actual=chess.is_under_attack()\n",
    "    #Assert\n",
    "    assert actual==expected\n",
    "test_queens_on_same_row()    "
   ]
  },
  {
   "cell_type": "code",
   "execution_count": 27,
   "metadata": {},
   "outputs": [],
   "source": [
    "def test_queens_on_same_col():\n",
    "    #rang\n",
    "    chess=ChessBoard()\n",
    "    chess.add_red(3,3)\n",
    "    chess.add_blue(2,3)\n",
    "    expected=True\n",
    "    #Act\n",
    "    actual=chess.is_under_attack()\n",
    "    #Assert\n",
    "    assert actual==expected\n",
    "test_queens_on_same_col() "
   ]
  },
  {
   "cell_type": "code",
   "execution_count": 28,
   "metadata": {},
   "outputs": [],
   "source": [
    "def test_queens_on_same_diagonal():\n",
    "    #rang\n",
    "    chess=ChessBoard()\n",
    "    chess.add_red(1,5)\n",
    "    chess.add_blue(3,3)\n",
    "    expected=True\n",
    "    #Act\n",
    "    actual=chess.is_under_attack()\n",
    "    #Assert\n",
    "    assert actual==expected\n",
    "test_queens_on_same_diagonal() "
   ]
  },
  {
   "cell_type": "code",
   "execution_count": 30,
   "metadata": {},
   "outputs": [],
   "source": [
    "def test_queens_on_not_under_attack():\n",
    "    #rang\n",
    "    chess=ChessBoard()\n",
    "    chess.add_red(4,4)\n",
    "    chess.add_blue(1,2)\n",
    "    expected=False\n",
    "    #Act\n",
    "    actual=chess.is_under_attack()\n",
    "    #Assert\n",
    "    assert actual==expected\n",
    "test_queens_on_not_under_attack() "
   ]
  },
  {
   "cell_type": "code",
   "execution_count": null,
   "metadata": {},
   "outputs": [],
   "source": []
  }
 ],
 "metadata": {
  "interpreter": {
   "hash": "285aa6f9035d432a142331f554bd22ecafb03adacf009640e347057905cbfdeb"
  },
  "kernelspec": {
   "display_name": "Python 3.8.10 64-bit ('.venv': poetry)",
   "name": "python3"
  },
  "language_info": {
   "codemirror_mode": {
    "name": "ipython",
    "version": 3
   },
   "file_extension": ".py",
   "mimetype": "text/x-python",
   "name": "python",
   "nbconvert_exporter": "python",
   "pygments_lexer": "ipython3",
   "version": "3.8.10"
  },
  "orig_nbformat": 4
 },
 "nbformat": 4,
 "nbformat_minor": 2
}
